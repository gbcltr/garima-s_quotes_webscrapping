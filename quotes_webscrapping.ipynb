{
 "cells": [
  {
   "cell_type": "markdown",
   "id": "22d5d8b6",
   "metadata": {},
   "source": [
    "Problem statement- to automatically extract and parse data from quotes website. Then storing that data in data frames and creating datasets for research and learning purposes.\n",
    "\n",
    "\n",
    "Website to scrape from: \"http://quotes.toscrape.com/page/1/\"\n",
    "\n",
    "\n",
    "In the assignment, the number of pages to extract the data from was not mentioned, so I have created a function that will ask users for a valid number of pages they need.\n",
    "\n",
    "\n",
    "Data to scrape from the website:\n",
    " 1) Name\n",
    " \n",
    " 2) Quotes \n",
    " \n",
    " 3) Tags\n",
    "\n",
    "\n",
    " Here we are going to use the following Python packages to complete our task:\n",
    " 1) beautiful soup - used for taking data out from the website\n",
    " \n",
    " 2) requests - to send our requests to the HTML server, it will take out data to store, \n",
    " \n",
    " 3) pandas - convert the information into a data frame and then export the data frame to CSV or Excel file \n",
    " \n",
    " \n",
    "On inspect of the website, we need to find the following things:\n",
    "\n",
    "1) first, we need the html tag, which has only the necessary things to scrape. In each page body under the container, we have two 'div' HTML tags with the same class name, 'row.' but the first div contains the header and login of the page, which we don't need. It is the second div which contains the required information to scrape. Both div have the same class name and no other attribute; hence we will use the find_all method to get all the div and choose the second one. \n",
    "\n",
    "2) now we have the entire content with all the page's quotes, names, and tags. We need to loop through it to find sections of each quote. Each section is in tag div with the class name 'quote.' We will again use the find_all method to loop and get each div tag with the class name 'quote.' \n",
    "\n",
    "3) then, using for loop, we will iterate through each section and scrape the information needed: \n",
    " \n",
    "      i) Name: the name of the author. it is in the 'small' HTML tag. We retrieve the tag and then its value of it using the .text method. \n",
    "  \n",
    "     ii) Quotes: the text of the quote. The quote data is in a 'span' HTML tag with the class name as 'text.' we retrieve the tag and then its value of it using the .text method. The quotes have double quotes in the beginning and ending, which doesn't store correctly in the CSV file. so to avoid that, we will remove the first character of the text. \n",
    "  \n",
    "     iii)Tags: the tag of the quote has multiple values. The tags are under the 'div' HTML tag with the class name 'tags.' Under this, multiple 'a' HTML tags have different names. So the tags have multiple values, so we use a tag_lst to store all the tags for the particular quote. we do so using the find_all method to get all the 'a' HTML tags and then going through each of them using for loop and retrieving the value using .text, and finally appending it in the tag_lst. I have use list to store all the tags as it can be easily stored in one place and retrived from one place.\n",
    "After retrieving each quote's name, quote, and tags, it appends it to the content_lst, a 2d list that can be converted to a data frame using Pandas and stored into a .csv file.\n",
    "\n",
    "\n",
    " I have used a single for loop to scrape all three pieces of information from the website to reduce the code's memory space and time complexity."
   ]
  },
  {
   "cell_type": "code",
   "execution_count": 1,
   "id": "9cdbd4df",
   "metadata": {},
   "outputs": [],
   "source": [
    "# !pip install bs4 "
   ]
  },
  {
   "cell_type": "code",
   "execution_count": 2,
   "id": "188689a6",
   "metadata": {},
   "outputs": [],
   "source": [
    "# !pip install requests"
   ]
  },
  {
   "cell_type": "code",
   "execution_count": 3,
   "id": "fe2c1c43",
   "metadata": {},
   "outputs": [],
   "source": [
    "#importing libraries the needed packages\n",
    "import requests\n",
    "from bs4 import BeautifulSoup\n",
    "import pandas as pd"
   ]
  },
  {
   "cell_type": "code",
   "execution_count": null,
   "id": "80d7866b",
   "metadata": {},
   "outputs": [],
   "source": []
  },
  {
   "cell_type": "code",
   "execution_count": 4,
   "id": "adc4a066",
   "metadata": {},
   "outputs": [],
   "source": [
    "def ask_for_num_of_pages():\n",
    "    num_pages=int(input(\"please enter the number of pages you to scrape the information from: \"))\n",
    "    while(num_pages<1 or num_pages>10):\n",
    "      num_pages=int(input(\"please enter any valid number between 1 to 10 \"))\n",
    "    print(f\"Getting information from {num_pages} pages\")\n",
    "    return num_pages"
   ]
  },
  {
   "cell_type": "code",
   "execution_count": 5,
   "id": "4917d88e",
   "metadata": {},
   "outputs": [
    {
     "name": "stdout",
     "output_type": "stream",
     "text": [
      "please enter the number of pages you to scrape the information from: 3\n",
      "Getting information from 3 pages\n"
     ]
    }
   ],
   "source": [
    "num_pages=ask_for_num_of_pages()"
   ]
  },
  {
   "cell_type": "code",
   "execution_count": null,
   "id": "d7c94ef6",
   "metadata": {},
   "outputs": [],
   "source": []
  },
  {
   "cell_type": "code",
   "execution_count": 6,
   "id": "5f440738",
   "metadata": {},
   "outputs": [
    {
     "name": "stdout",
     "output_type": "stream",
     "text": [
      "Autor Name:  Albert Einstein\n",
      "Quote:  The world as we have created it is a process of our thinking. It cannot be changed without changing our thinking.\n",
      "tags:  ['change', 'deep-thoughts', 'thinking', 'world']\n",
      "\n",
      "Autor Name:  J.K. Rowling\n",
      "Quote:  It is our choices, Harry, that show what we truly are, far more than our abilities.\n",
      "tags:  ['abilities', 'choices']\n",
      "\n",
      "Autor Name:  Albert Einstein\n",
      "Quote:  There are only two ways to live your life. One is as though nothing is a miracle. The other is as though everything is a miracle.\n",
      "tags:  ['inspirational', 'life', 'live', 'miracle', 'miracles']\n",
      "\n",
      "Autor Name:  Jane Austen\n",
      "Quote:  The person, be it gentleman or lady, who has not pleasure in a good novel, must be intolerably stupid.\n",
      "tags:  ['aliteracy', 'books', 'classic', 'humor']\n",
      "\n",
      "Autor Name:  Marilyn Monroe\n",
      "Quote:  Imperfection is beauty, madness is genius and it's better to be absolutely ridiculous than absolutely boring.\n",
      "tags:  ['be-yourself', 'inspirational']\n",
      "\n",
      "Autor Name:  Albert Einstein\n",
      "Quote:  Try not to become a man of success. Rather become a man of value.\n",
      "tags:  ['adulthood', 'success', 'value']\n",
      "\n",
      "Autor Name:  André Gide\n",
      "Quote:  It is better to be hated for what you are than to be loved for what you are not.\n",
      "tags:  ['life', 'love']\n",
      "\n",
      "Autor Name:  Thomas A. Edison\n",
      "Quote:  I have not failed. I've just found 10,000 ways that won't work.\n",
      "tags:  ['edison', 'failure', 'inspirational', 'paraphrased']\n",
      "\n",
      "Autor Name:  Eleanor Roosevelt\n",
      "Quote:  A woman is like a tea bag; you never know how strong it is until it's in hot water.\n",
      "tags:  ['misattributed-eleanor-roosevelt']\n",
      "\n",
      "Autor Name:  Steve Martin\n",
      "Quote:  A day without sunshine is like, you know, night.\n",
      "tags:  ['humor', 'obvious', 'simile']\n",
      "\n",
      "Autor Name:  Marilyn Monroe\n",
      "Quote:  This life is what you make it. No matter what, you're going to mess up sometimes, it's a universal truth. But the good part is you get to decide how you're going to mess it up. Girls will be your friends - they'll act like it anyway. But just remember, some come, some go. The ones that stay with you through everything - they're your true best friends. Don't let go of them. Also remember, sisters make the best friends in the world. As for lovers, well, they'll come and go too. And baby, I hate to say it, most of them - actually pretty much all of them are going to break your heart, but you can't give up because if you give up, you'll never find your soulmate. You'll never find that half who makes you whole and that goes for everything. Just because you fail once, doesn't mean you're gonna fail at everything. Keep trying, hold on, and always, always, always believe in yourself, because if you don't, then who will, sweetie? So keep your head high, keep your chin up, and most importantly, keep smiling, because life's a beautiful thing and there's so much to smile about.\n",
      "tags:  ['friends', 'heartbreak', 'inspirational', 'life', 'love', 'sisters']\n",
      "\n",
      "Autor Name:  J.K. Rowling\n",
      "Quote:  It takes a great deal of bravery to stand up to our enemies, but just as much to stand up to our friends.\n",
      "tags:  ['courage', 'friends']\n",
      "\n",
      "Autor Name:  Albert Einstein\n",
      "Quote:  If you can't explain it to a six year old, you don't understand it yourself.\n",
      "tags:  ['simplicity', 'understand']\n",
      "\n",
      "Autor Name:  Bob Marley\n",
      "Quote:  You may not be her first, her last, or her only. She loved before she may love again. But if she loves you now, what else matters? She's not perfect—you aren't either, and the two of you may never be perfect together but if she can make you laugh, cause you to think twice, and admit to being human and making mistakes, hold onto her and give her the most you can. She may not be thinking about you every second of the day, but she will give you a part of her that she knows you can break—her heart. So don't hurt her, don't change her, don't analyze and don't expect more than she can give. Smile when she makes you happy, let her know when she makes you mad, and miss her when she's not there.\n",
      "tags:  ['love']\n",
      "\n",
      "Autor Name:  Dr. Seuss\n",
      "Quote:  I like nonsense, it wakes up the brain cells. Fantasy is a necessary ingredient in living.\n",
      "tags:  ['fantasy']\n",
      "\n",
      "Autor Name:  Douglas Adams\n",
      "Quote:  I may not have gone where I intended to go, but I think I have ended up where I needed to be.\n",
      "tags:  ['life', 'navigation']\n",
      "\n",
      "Autor Name:  Elie Wiesel\n",
      "Quote:  The opposite of love is not hate, it's indifference. The opposite of art is not ugliness, it's indifference. The opposite of faith is not heresy, it's indifference. And the opposite of life is not death, it's indifference.\n",
      "tags:  ['activism', 'apathy', 'hate', 'indifference', 'inspirational', 'love', 'opposite', 'philosophy']\n",
      "\n",
      "Autor Name:  Friedrich Nietzsche\n",
      "Quote:  It is not a lack of love, but a lack of friendship that makes unhappy marriages.\n",
      "tags:  ['friendship', 'lack-of-friendship', 'lack-of-love', 'love', 'marriage', 'unhappy-marriage']\n",
      "\n",
      "Autor Name:  Mark Twain\n",
      "Quote:  Good friends, good books, and a sleepy conscience: this is the ideal life.\n",
      "tags:  ['books', 'contentment', 'friends', 'friendship', 'life']\n",
      "\n",
      "Autor Name:  Allen Saunders\n",
      "Quote:  Life is what happens to us while we are making other plans.\n",
      "tags:  ['fate', 'life', 'misattributed-john-lennon', 'planning', 'plans']\n",
      "\n",
      "Autor Name:  Pablo Neruda\n",
      "Quote:  I love you without knowing how, or when, or from where. I love you simply, without problems or pride: I love you in this way because I do not know any other way of loving but this, in which there is no I or you, so intimate that your hand upon my chest is my hand, so intimate that when I fall asleep your eyes close.\n",
      "tags:  ['love', 'poetry']\n",
      "\n",
      "Autor Name:  Ralph Waldo Emerson\n",
      "Quote:  For every minute you are angry you lose sixty seconds of happiness.\n",
      "tags:  ['happiness']\n",
      "\n",
      "Autor Name:  Mother Teresa\n",
      "Quote:  If you judge people, you have no time to love them.\n",
      "tags:  ['attributed-no-source']\n",
      "\n",
      "Autor Name:  Garrison Keillor\n",
      "Quote:  Anyone who thinks sitting in church can make you a Christian must also think that sitting in a garage can make you a car.\n",
      "tags:  ['humor', 'religion']\n",
      "\n",
      "Autor Name:  Jim Henson\n",
      "Quote:  Beauty is in the eye of the beholder and it may be necessary from time to time to give a stupid or misinformed beholder a black eye.\n",
      "tags:  ['humor']\n",
      "\n",
      "Autor Name:  Dr. Seuss\n",
      "Quote:  Today you are You, that is truer than true. There is no one alive who is Youer than You.\n",
      "tags:  ['comedy', 'life', 'yourself']\n",
      "\n",
      "Autor Name:  Albert Einstein\n",
      "Quote:  If you want your children to be intelligent, read them fairy tales. If you want them to be more intelligent, read them more fairy tales.\n",
      "tags:  ['children', 'fairy-tales']\n",
      "\n",
      "Autor Name:  J.K. Rowling\n",
      "Quote:  It is impossible to live without failing at something, unless you live so cautiously that you might as well not have lived at all - in which case, you fail by default.\n",
      "tags:  []\n",
      "\n",
      "Autor Name:  Albert Einstein\n",
      "Quote:  Logic will get you from A to Z; imagination will get you everywhere.\n",
      "tags:  ['imagination']\n",
      "\n",
      "Autor Name:  Bob Marley\n",
      "Quote:  One good thing about music, when it hits you, you feel no pain.\n",
      "tags:  ['music']\n",
      "\n"
     ]
    }
   ],
   "source": [
    "# get content from more than 1 page\n",
    "content_lst=[]\n",
    "tag_lst=[]\n",
    "for i in range(1,num_pages+1):\n",
    "    url=f\"http://quotes.toscrape.com/page/{i}/\" #page\n",
    "    response=requests.get(url)\n",
    "    response=response.content\n",
    "    soup=BeautifulSoup(response,'html.parser')#html parser will change the format of above content to html\n",
    "    ol = soup.find_all('div',class_='row')[1] \n",
    "    contents = ol.find_all('div',class_='quote')\n",
    "    tag_lst=[]\n",
    "    for content in contents:\n",
    "        name=content.find('small',class_='author').text  # attrs to get the attribute value\n",
    "        quote= content.find('span',class_='text').text[1:-1]\n",
    "        tags=content.find('div',class_=\"tags\")\n",
    "        tags = tags.find_all('a',class_=\"tag\")\n",
    "        tag_lst=[]\n",
    "        for tag in tags:\n",
    "           tag_lst.append(tag.text) \n",
    "        content_lst.append([name,quote,tag_lst])\n",
    "        print(\"Autor Name: \",name)\n",
    "        print(\"Quote: \",quote)\n",
    "        print(\"tags: \",tag_lst)\n",
    "        print()"
   ]
  },
  {
   "cell_type": "code",
   "execution_count": 7,
   "id": "57c9397b",
   "metadata": {},
   "outputs": [
    {
     "name": "stdout",
     "output_type": "stream",
     "text": [
      "[['Albert Einstein', 'The world as we have created it is a process of our thinking. It cannot be changed without changing our thinking.', ['change', 'deep-thoughts', 'thinking', 'world']], ['J.K. Rowling', 'It is our choices, Harry, that show what we truly are, far more than our abilities.', ['abilities', 'choices']], ['Albert Einstein', 'There are only two ways to live your life. One is as though nothing is a miracle. The other is as though everything is a miracle.', ['inspirational', 'life', 'live', 'miracle', 'miracles']], ['Jane Austen', 'The person, be it gentleman or lady, who has not pleasure in a good novel, must be intolerably stupid.', ['aliteracy', 'books', 'classic', 'humor']], ['Marilyn Monroe', \"Imperfection is beauty, madness is genius and it's better to be absolutely ridiculous than absolutely boring.\", ['be-yourself', 'inspirational']], ['Albert Einstein', 'Try not to become a man of success. Rather become a man of value.', ['adulthood', 'success', 'value']], ['André Gide', 'It is better to be hated for what you are than to be loved for what you are not.', ['life', 'love']], ['Thomas A. Edison', \"I have not failed. I've just found 10,000 ways that won't work.\", ['edison', 'failure', 'inspirational', 'paraphrased']], ['Eleanor Roosevelt', \"A woman is like a tea bag; you never know how strong it is until it's in hot water.\", ['misattributed-eleanor-roosevelt']], ['Steve Martin', 'A day without sunshine is like, you know, night.', ['humor', 'obvious', 'simile']], ['Marilyn Monroe', \"This life is what you make it. No matter what, you're going to mess up sometimes, it's a universal truth. But the good part is you get to decide how you're going to mess it up. Girls will be your friends - they'll act like it anyway. But just remember, some come, some go. The ones that stay with you through everything - they're your true best friends. Don't let go of them. Also remember, sisters make the best friends in the world. As for lovers, well, they'll come and go too. And baby, I hate to say it, most of them - actually pretty much all of them are going to break your heart, but you can't give up because if you give up, you'll never find your soulmate. You'll never find that half who makes you whole and that goes for everything. Just because you fail once, doesn't mean you're gonna fail at everything. Keep trying, hold on, and always, always, always believe in yourself, because if you don't, then who will, sweetie? So keep your head high, keep your chin up, and most importantly, keep smiling, because life's a beautiful thing and there's so much to smile about.\", ['friends', 'heartbreak', 'inspirational', 'life', 'love', 'sisters']], ['J.K. Rowling', 'It takes a great deal of bravery to stand up to our enemies, but just as much to stand up to our friends.', ['courage', 'friends']], ['Albert Einstein', \"If you can't explain it to a six year old, you don't understand it yourself.\", ['simplicity', 'understand']], ['Bob Marley', \"You may not be her first, her last, or her only. She loved before she may love again. But if she loves you now, what else matters? She's not perfect—you aren't either, and the two of you may never be perfect together but if she can make you laugh, cause you to think twice, and admit to being human and making mistakes, hold onto her and give her the most you can. She may not be thinking about you every second of the day, but she will give you a part of her that she knows you can break—her heart. So don't hurt her, don't change her, don't analyze and don't expect more than she can give. Smile when she makes you happy, let her know when she makes you mad, and miss her when she's not there.\", ['love']], ['Dr. Seuss', 'I like nonsense, it wakes up the brain cells. Fantasy is a necessary ingredient in living.', ['fantasy']], ['Douglas Adams', 'I may not have gone where I intended to go, but I think I have ended up where I needed to be.', ['life', 'navigation']], ['Elie Wiesel', \"The opposite of love is not hate, it's indifference. The opposite of art is not ugliness, it's indifference. The opposite of faith is not heresy, it's indifference. And the opposite of life is not death, it's indifference.\", ['activism', 'apathy', 'hate', 'indifference', 'inspirational', 'love', 'opposite', 'philosophy']], ['Friedrich Nietzsche', 'It is not a lack of love, but a lack of friendship that makes unhappy marriages.', ['friendship', 'lack-of-friendship', 'lack-of-love', 'love', 'marriage', 'unhappy-marriage']], ['Mark Twain', 'Good friends, good books, and a sleepy conscience: this is the ideal life.', ['books', 'contentment', 'friends', 'friendship', 'life']], ['Allen Saunders', 'Life is what happens to us while we are making other plans.', ['fate', 'life', 'misattributed-john-lennon', 'planning', 'plans']], ['Pablo Neruda', 'I love you without knowing how, or when, or from where. I love you simply, without problems or pride: I love you in this way because I do not know any other way of loving but this, in which there is no I or you, so intimate that your hand upon my chest is my hand, so intimate that when I fall asleep your eyes close.', ['love', 'poetry']], ['Ralph Waldo Emerson', 'For every minute you are angry you lose sixty seconds of happiness.', ['happiness']], ['Mother Teresa', 'If you judge people, you have no time to love them.', ['attributed-no-source']], ['Garrison Keillor', 'Anyone who thinks sitting in church can make you a Christian must also think that sitting in a garage can make you a car.', ['humor', 'religion']], ['Jim Henson', 'Beauty is in the eye of the beholder and it may be necessary from time to time to give a stupid or misinformed beholder a black eye.', ['humor']], ['Dr. Seuss', 'Today you are You, that is truer than true. There is no one alive who is Youer than You.', ['comedy', 'life', 'yourself']], ['Albert Einstein', 'If you want your children to be intelligent, read them fairy tales. If you want them to be more intelligent, read them more fairy tales.', ['children', 'fairy-tales']], ['J.K. Rowling', 'It is impossible to live without failing at something, unless you live so cautiously that you might as well not have lived at all - in which case, you fail by default.', []], ['Albert Einstein', 'Logic will get you from A to Z; imagination will get you everywhere.', ['imagination']], ['Bob Marley', 'One good thing about music, when it hits you, you feel no pain.', ['music']]]\n"
     ]
    }
   ],
   "source": [
    "print(content_lst)"
   ]
  },
  {
   "cell_type": "code",
   "execution_count": 8,
   "id": "7215e073",
   "metadata": {},
   "outputs": [],
   "source": [
    "df= pd.DataFrame(content_lst,columns=['Author','Quote','Tags'])"
   ]
  },
  {
   "cell_type": "code",
   "execution_count": 9,
   "id": "136293fd",
   "metadata": {},
   "outputs": [
    {
     "data": {
      "text/html": [
       "<div>\n",
       "<style scoped>\n",
       "    .dataframe tbody tr th:only-of-type {\n",
       "        vertical-align: middle;\n",
       "    }\n",
       "\n",
       "    .dataframe tbody tr th {\n",
       "        vertical-align: top;\n",
       "    }\n",
       "\n",
       "    .dataframe thead th {\n",
       "        text-align: right;\n",
       "    }\n",
       "</style>\n",
       "<table border=\"1\" class=\"dataframe\">\n",
       "  <thead>\n",
       "    <tr style=\"text-align: right;\">\n",
       "      <th></th>\n",
       "      <th>Author</th>\n",
       "      <th>Quote</th>\n",
       "      <th>Tags</th>\n",
       "    </tr>\n",
       "  </thead>\n",
       "  <tbody>\n",
       "    <tr>\n",
       "      <th>0</th>\n",
       "      <td>Albert Einstein</td>\n",
       "      <td>The world as we have created it is a process o...</td>\n",
       "      <td>[change, deep-thoughts, thinking, world]</td>\n",
       "    </tr>\n",
       "    <tr>\n",
       "      <th>1</th>\n",
       "      <td>J.K. Rowling</td>\n",
       "      <td>It is our choices, Harry, that show what we tr...</td>\n",
       "      <td>[abilities, choices]</td>\n",
       "    </tr>\n",
       "    <tr>\n",
       "      <th>2</th>\n",
       "      <td>Albert Einstein</td>\n",
       "      <td>There are only two ways to live your life. One...</td>\n",
       "      <td>[inspirational, life, live, miracle, miracles]</td>\n",
       "    </tr>\n",
       "    <tr>\n",
       "      <th>3</th>\n",
       "      <td>Jane Austen</td>\n",
       "      <td>The person, be it gentleman or lady, who has n...</td>\n",
       "      <td>[aliteracy, books, classic, humor]</td>\n",
       "    </tr>\n",
       "    <tr>\n",
       "      <th>4</th>\n",
       "      <td>Marilyn Monroe</td>\n",
       "      <td>Imperfection is beauty, madness is genius and ...</td>\n",
       "      <td>[be-yourself, inspirational]</td>\n",
       "    </tr>\n",
       "    <tr>\n",
       "      <th>5</th>\n",
       "      <td>Albert Einstein</td>\n",
       "      <td>Try not to become a man of success. Rather bec...</td>\n",
       "      <td>[adulthood, success, value]</td>\n",
       "    </tr>\n",
       "    <tr>\n",
       "      <th>6</th>\n",
       "      <td>André Gide</td>\n",
       "      <td>It is better to be hated for what you are than...</td>\n",
       "      <td>[life, love]</td>\n",
       "    </tr>\n",
       "  </tbody>\n",
       "</table>\n",
       "</div>"
      ],
      "text/plain": [
       "            Author                                              Quote  \\\n",
       "0  Albert Einstein  The world as we have created it is a process o...   \n",
       "1     J.K. Rowling  It is our choices, Harry, that show what we tr...   \n",
       "2  Albert Einstein  There are only two ways to live your life. One...   \n",
       "3      Jane Austen  The person, be it gentleman or lady, who has n...   \n",
       "4   Marilyn Monroe  Imperfection is beauty, madness is genius and ...   \n",
       "5  Albert Einstein  Try not to become a man of success. Rather bec...   \n",
       "6       André Gide  It is better to be hated for what you are than...   \n",
       "\n",
       "                                             Tags  \n",
       "0        [change, deep-thoughts, thinking, world]  \n",
       "1                            [abilities, choices]  \n",
       "2  [inspirational, life, live, miracle, miracles]  \n",
       "3              [aliteracy, books, classic, humor]  \n",
       "4                    [be-yourself, inspirational]  \n",
       "5                     [adulthood, success, value]  \n",
       "6                                    [life, love]  "
      ]
     },
     "execution_count": 9,
     "metadata": {},
     "output_type": "execute_result"
    }
   ],
   "source": [
    "df.head(7)"
   ]
  },
  {
   "cell_type": "code",
   "execution_count": 12,
   "id": "9bd149b2",
   "metadata": {},
   "outputs": [
    {
     "data": {
      "text/plain": [
       "(30, 3)"
      ]
     },
     "execution_count": 12,
     "metadata": {},
     "output_type": "execute_result"
    }
   ],
   "source": [
    "df.shape"
   ]
  },
  {
   "cell_type": "code",
   "execution_count": 10,
   "id": "c689b0fb",
   "metadata": {},
   "outputs": [],
   "source": [
    "df.to_csv('Quotes_Scrapped.csv')"
   ]
  }
 ],
 "metadata": {
  "kernelspec": {
   "display_name": "Python 3 (ipykernel)",
   "language": "python",
   "name": "python3"
  },
  "language_info": {
   "codemirror_mode": {
    "name": "ipython",
    "version": 3
   },
   "file_extension": ".py",
   "mimetype": "text/x-python",
   "name": "python",
   "nbconvert_exporter": "python",
   "pygments_lexer": "ipython3",
   "version": "3.9.13"
  }
 },
 "nbformat": 4,
 "nbformat_minor": 5
}
